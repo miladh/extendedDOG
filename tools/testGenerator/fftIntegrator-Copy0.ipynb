{
 "metadata": {
  "name": "",
  "signature": "sha256:d7abb0d7dd98734b8e5ae5d9adc92997c37ce2de44b28aa4627d7bb77dd82835"
 },
 "nbformat": 3,
 "nbformat_minor": 0,
 "worksheets": [
  {
   "cells": [
    {
     "cell_type": "markdown",
     "metadata": {},
     "source": [
      "Constant tests:\n",
      "-----"
     ]
    },
    {
     "cell_type": "code",
     "collapsed": false,
     "input": [
      "def constant(ns, nt, dt, c, id):\n",
      "    print \"TEST(constant_\" + str(id) + \"){\"\n",
      "    print \"     runTest(\"+ str(ns)+ \", \" + str(nt)+ \", \" + str(dt) + \", \" + str(c)+\");\"\n",
      "    print\"}\"\n",
      "    print\n",
      "    \n",
      "#############################################################################\n",
      "cVec = [-60.5 , -0.002, 0.0, 4.6, 32.1, 1000.5]\n",
      "ntVec = range(1,3)\n",
      "\n",
      "dsVec = linspace(0.01, 0.5, 3)\n",
      "dtVec = linspace(0.01, 0.5, 3)\n",
      "\n",
      "id = 0\n",
      "for c in cVec:\n",
      "    for ns in nsVec:\n",
      "        for nt in ntVec:\n",
      "                for dt in dtVec:\n",
      "                    constant(ns, nt, dt, c, id)\n",
      "                    id+=1"
     ],
     "language": "python",
     "metadata": {},
     "outputs": []
    },
    {
     "cell_type": "markdown",
     "metadata": {},
     "source": [
      "Cosine tests:\n",
      "-----"
     ]
    },
    {
     "cell_type": "code",
     "collapsed": false,
     "input": [
      "def cosine(ns, nt, dt, wdId, kxId, kyId, id):\n",
      "    print \"TEST(cosine_\" + str(id) + \"){\"\n",
      "    print \"     runTest(\"+ str(ns)+ \", \" + str(nt)+ \", \" + str(dt)+ \", \"+ str(wdId)+ \", \" + str(kxId)+ \", \"+ str(kyId) +\");\"\n",
      "    print\"}\"\n",
      "    print\n",
      "    \n",
      "#############################################################################\n",
      "nsVec = range(2,4)\n",
      "ntVec = range(2,4)\n",
      "\n",
      "dtVec = linspace(0.01, 0.5, 2)\n",
      "\n",
      "id = 0\n",
      "for ns in nsVec:\n",
      "    for nt in ntVec:\n",
      "        wdVec = range(0, 2**nt/2) + range(2**nt/2+1, 2**nt) \n",
      "        kxVec = range(1, 2**ns/2) + range(2**ns/2+1, 2**ns) \n",
      "        kyVec = range(1, 2**ns/2) + range(2**ns/2+1, 2**ns) \n",
      "        for dt in dtVec:\n",
      "            for wdId in wdVec:\n",
      "                for kxId in kxVec:\n",
      "                    for kyId in kyVec:\n",
      "                        cosine(ns, nt, dt, wdId, kxId, kyId, id)\n",
      "                        id+=1"
     ],
     "language": "python",
     "metadata": {},
     "outputs": []
    },
    {
     "cell_type": "markdown",
     "metadata": {},
     "source": [
      "Grating tests:\n",
      "-----"
     ]
    },
    {
     "cell_type": "code",
     "collapsed": false,
     "input": [
      "def grating(ns, nt, dt, C, wdId, kxId, kyId, id):\n",
      "    print \"TEST(grating_\" + str(id) + \"){\"    \n",
      "    print \"     runTest(\"+ str(ns)+ \", \" + str(nt)+ \", \" + str(dt)+ \", \" + str(C)+ \", \"+ str(wdId)+ \", \" + str(kxId)+ \", \"+ str(kyId) +\");\"\n",
      "    print\"}\"\n",
      "    print\n",
      "    \n",
      "    \n",
      "#############################################################################\n",
      "nsVec = range(2,4)\n",
      "ntVec = range(2,4)\n",
      "\n",
      "CVec = [-0.1, 2.2]\n",
      "\n",
      "dtVec = linspace(0.01, 0.5, 2)\n",
      "\n",
      "id = 0\n",
      "for ns in nsVec:\n",
      "    for nt in ntVec:\n",
      "        wdVec = range(0, 2**nt/2) + range(2**nt/2+1, 2**nt) \n",
      "        kxVec = range(1, 2**ns/2) + range(2**ns/2+1, 2**ns) \n",
      "        kyVec = range(1, 2**ns/2) + range(2**ns/2+1, 2**ns) \n",
      "        for dt in dtVec:\n",
      "            for wdId in wdVec:\n",
      "                for kxId in kxVec:\n",
      "                    for kyId in kyVec:\n",
      "                        for C in CVec:\n",
      "                            grating(ns, nt, dt, C, wdId, kxId, kyId, id)\n",
      "                            id+=1"
     ],
     "language": "python",
     "metadata": {},
     "outputs": []
    },
    {
     "cell_type": "code",
     "collapsed": false,
     "input": [],
     "language": "python",
     "metadata": {},
     "outputs": []
    }
   ],
   "metadata": {}
  }
 ]
}