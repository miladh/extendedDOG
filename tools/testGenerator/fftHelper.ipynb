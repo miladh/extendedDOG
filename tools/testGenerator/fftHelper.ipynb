{
 "metadata": {
  "name": "",
  "signature": "sha256:6c319ea18aae1404f5f3af15f9274fa27b1772d812442680fe4526c6d2c10e8f"
 },
 "nbformat": 3,
 "nbformat_minor": 0,
 "worksheets": [
  {
   "cells": [
    {
     "cell_type": "markdown",
     "metadata": {},
     "source": [
      "fftFreqs tests:\n",
      "-----"
     ]
    },
    {
     "cell_type": "code",
     "collapsed": false,
     "input": [
      "import numpy as np\n",
      "\n",
      "for i in range(0):\n",
      "    n = np.around( np.random.randint(5,10, size =1)[0],decimals=3)\n",
      "    d = np.around(np.random.rand(), decimals=3)\n",
      "    freq = np.around(np.fft.fftfreq(n, d=d), decimals=3)\n",
      "    print \"result = {\", ', '.join(map(str, freq)), \"};\"\n",
      "    print \"freqs = FFTHelper::fftFreq(\", n , \",\" , d,\");\"\n",
      "    print \"for(int i = 0; i < int(result.n_elem); i++){\"\n",
      "    print \"    CHECK_CLOSE(freqs[i], result[i], 1e-3);\"\n",
      "    print \"}\"\n",
      "    print "
     ],
     "language": "python",
     "metadata": {},
     "outputs": []
    },
    {
     "cell_type": "markdown",
     "metadata": {},
     "source": [
      "fftShift 1D tests:\n",
      "-----"
     ]
    },
    {
     "cell_type": "code",
     "collapsed": false,
     "input": [
      "for i in range(0):\n",
      "    n = np.around( np.random.randint(5,10, size =1)[0],decimals=3)\n",
      "    d = np.around(np.random.rand(), decimals=3)\n",
      "    sig = np.around(np.fft.fftfreq(n, d=d), decimals=3)\n",
      "    centered = np.fft.fftshift(sig)\n",
      "    print \"sig = {\", ', '.join(map(str, sig)), \"};\"\n",
      "    print \"centered = {\", ', '.join(map(str, centered)), \"};\"\n",
      "    print \"shifted = FFTHelper::fftShift(sig);\"\n",
      "    print \"for(int i = 0; i < int(sig.n_elem); i++){\"\n",
      "    print \"    CHECK_EQUAL(real(shifted[i]), real(centered[i]));\"\n",
      "    print \"}\"\n",
      "    print "
     ],
     "language": "python",
     "metadata": {},
     "outputs": []
    },
    {
     "cell_type": "markdown",
     "metadata": {},
     "source": [
      "fftShift 2D tests:\n",
      "-----"
     ]
    },
    {
     "cell_type": "code",
     "collapsed": false,
     "input": [
      "for i in range(0):\n",
      "    n = np.random.randint(2,6, size =2)\n",
      "    sig = np.random.random_integers(-5,5, size=(n[0], n[1]))\n",
      "    centered = np.fft.fftshift(sig)\n",
      "    \n",
      "    for j in range(n[0]):\n",
      "        if(j ==0):\n",
      "            print \"sig <<\", ' << '.join(map(str, sig[j,:])), \"<< endr\"\n",
      "        elif(j == n[0]-1):\n",
      "            print \"   <<\", ' << '.join(map(str, sig[j,:])), \"<< endr;\"\n",
      "        else:\n",
      "            print \"   <<\", ' << '.join(map(str, sig[j,:])), \"<< endr\"\n",
      "    print        \n",
      "    for j in range(n[0]):\n",
      "        if(j == 0):\n",
      "            print \"centered <<\", ' << '.join(map(str, centered[j,:])), \"<< endr\"\n",
      "        elif(j == n[0]-1):\n",
      "            print \"        <<\", ' << '.join(map(str, centered[j,:])), \"<< endr;\"\n",
      "        else:\n",
      "            print \"        <<\", ' << '.join(map(str, centered[j,:])), \"<< endr\"\n",
      "    \n",
      "\n",
      "    print \"shifted = FFTHelper::fftShift(sig);\"\n",
      "    print \"for(int i = 0; i < int(sig.n_rows); i++){\"\n",
      "    print \"   for(int j = 0; j < int(sig.n_cols); j++){\"\n",
      "    print \"    CHECK_EQUAL(real(shifted(i,j)), real(centered(i,j)));\"\n",
      "    print \"    }\"\n",
      "    print \"}\"\n",
      "    print \"/*------------------------------------------------------*/\"\n",
      "    print"
     ],
     "language": "python",
     "metadata": {},
     "outputs": []
    },
    {
     "cell_type": "markdown",
     "metadata": {},
     "source": [
      "fftShift 3D tests:\n",
      "-----"
     ]
    },
    {
     "cell_type": "code",
     "collapsed": false,
     "input": [
      "for i in range(0):\n",
      "    n = np.random.randint(2,6, size = 3)\n",
      "    sig = np.random.random_integers(-5,5, size=(n[2], n[0], n[1]))\n",
      "    centered = np.fft.fftshift(sig)\n",
      "    \n",
      "    print \"sig.set_size(\",', '.join(map(str, n)), \");\"\n",
      "    print \"centered.set_size(\",', '.join(map(str, n)), \");\"\n",
      "    \n",
      "    for k in range(n[2]):\n",
      "        for j in range(n[0]):\n",
      "            if(j ==0):\n",
      "                print \"sig.slice(\",k,\") <<\", ' << '.join(map(str, sig[k,j,:])), \"<< endr\"\n",
      "            elif(j == n[0]-1):\n",
      "                print \"                <<\", ' << '.join(map(str, sig[k,j,:])), \"<< endr;\"\n",
      "            else:\n",
      "                print \"                <<\", ' << '.join(map(str, sig[k,j,:])), \"<< endr\"\n",
      "    print \n",
      "        \n",
      "    for k in range(n[2]):\n",
      "        for j in range(n[0]):\n",
      "            if(j == 0):\n",
      "                print \"centered.slice(\",k,\") <<\", ' << '.join(map(str, centered[k,j,:])), \"<< endr\"\n",
      "            elif(j == n[0]-1):\n",
      "                print \"                      <<\", ' << '.join(map(str, centered[k,j,:])), \"<< endr;\"\n",
      "            else: \n",
      "                print \"                      <<\", ' << '.join(map(str, centered[k,j,:])), \"<< endr\"\n",
      "    \n",
      "    print\n",
      "    print \"shifted = FFTHelper::fftShift(sig);\" \n",
      "    print \"for(int k = 0; k < int(sig.n_slices); k++){\"\n",
      "    print \"    for(int i = 0; i < int(sig.n_rows); i++){\"\n",
      "    print \"        for(int j = 0; j < int(sig.n_cols); j++){\"\n",
      "    print \"             CHECK_EQUAL(real(shifted(i,j,k)), real(centered(i,j,k)));\"\n",
      "    print \"        }\"\n",
      "    print \"     }\"\n",
      "    print \"}\"\n",
      "    print \"/*------------------------------------------------------*/\"\n",
      "    print"
     ],
     "language": "python",
     "metadata": {},
     "outputs": []
    },
    {
     "cell_type": "markdown",
     "metadata": {},
     "source": [
      "ifftShift 3D tests:\n",
      "-----"
     ]
    },
    {
     "cell_type": "code",
     "collapsed": false,
     "input": [
      "for i in range(30):\n",
      "    n = np.random.randint(2,6, size = 3)\n",
      "    sig = np.random.random_integers(-5,5, size=(n[2], n[0], n[1]))\n",
      "    centered = np.fft.ifftshift(sig)\n",
      "    \n",
      "    print \"sig.set_size(\",', '.join(map(str, n)), \");\"\n",
      "    print \"centered.set_size(\",', '.join(map(str, n)), \");\"\n",
      "    \n",
      "    for k in range(n[2]):\n",
      "        for j in range(n[0]):\n",
      "            if(j ==0):\n",
      "                print \"sig.slice(\",k,\") <<\", ' << '.join(map(str, sig[k,j,:])), \"<< endr\"\n",
      "            elif(j == n[0]-1):\n",
      "                print \"                <<\", ' << '.join(map(str, sig[k,j,:])), \"<< endr;\"\n",
      "            else:\n",
      "                print \"                <<\", ' << '.join(map(str, sig[k,j,:])), \"<< endr\"\n",
      "    print \n",
      "        \n",
      "    for k in range(n[2]):\n",
      "        for j in range(n[0]):\n",
      "            if(j == 0):\n",
      "                print \"centered.slice(\",k,\") <<\", ' << '.join(map(str, centered[k,j,:])), \"<< endr\"\n",
      "            elif(j == n[0]-1):\n",
      "                print \"                      <<\", ' << '.join(map(str, centered[k,j,:])), \"<< endr;\"\n",
      "            else: \n",
      "                print \"                      <<\", ' << '.join(map(str, centered[k,j,:])), \"<< endr\"\n",
      "    \n",
      "    print\n",
      "    print \"shifted = FFTHelper::ifftShift(sig);\" \n",
      "    print \"for(int k = 0; k < int(sig.n_slices); k++){\"\n",
      "    print \"    for(int i = 0; i < int(sig.n_rows); i++){\"\n",
      "    print \"        for(int j = 0; j < int(sig.n_cols); j++){\"\n",
      "    print \"             CHECK_EQUAL(real(shifted(i,j,k)), real(centered(i,j,k)));\"\n",
      "    print \"        }\"\n",
      "    print \"     }\"\n",
      "    print \"}\"\n",
      "    print \"/*------------------------------------------------------*/\"\n",
      "    print"
     ],
     "language": "python",
     "metadata": {},
     "outputs": []
    }
   ],
   "metadata": {}
  }
 ]
}